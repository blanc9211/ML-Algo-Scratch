{
 "cells": [
  {
   "cell_type": "code",
   "execution_count": 1,
   "metadata": {},
   "outputs": [],
   "source": [
    "import numpy as np\n",
    "\n",
    "class AdamOptimizer:\n",
    "    def __init__(self, params, lr=0.001, beta1=0.9, beta2=0.999, epsilon=1e-8):\n",
    "        self.params = params\n",
    "        self.lr = lr\n",
    "        self.beta1 = beta1\n",
    "        self.beta2 = beta2\n",
    "        self.epsilon = epsilon\n",
    "        self.m = [np.zeros_like(p) for p in self.params]\n",
    "        self.v = [np.zeros_like(p) for p in self.params]\n",
    "        self.t = 0\n",
    "\n",
    "    def step(self, grads):\n",
    "        self.t += 1\n",
    "        updated_params = []\n",
    "\n",
    "        for i, (param, grad) in enumerate(zip(self.params, grads)):\n",
    "            self.m[i] = self.beta1 * self.m[i] + (1 - self.beta1) * grad\n",
    "            self.v[i] = self.beta2 * self.v[i] + (1 - self.beta2) * (grad ** 2)\n",
    "\n",
    "            m_hat = self.m[i] / (1 - self.beta1 ** self.t)\n",
    "            v_hat = self.v[i] / (1 - self.beta2 ** self.t)\n",
    "\n",
    "            param_update = self.lr * m_hat / (np.sqrt(v_hat) + self.epsilon)\n",
    "            param -= param_update\n",
    "\n",
    "            updated_params.append(param)\n",
    "        \n",
    "        self.params = updated_params\n",
    "        return self.params\n"
   ]
  },
  {
   "cell_type": "code",
   "execution_count": 2,
   "metadata": {},
   "outputs": [
    {
     "name": "stdout",
     "output_type": "stream",
     "text": [
      "[array([[ 1.76305235,  0.39915721,  0.97773798],\n",
      "       [ 2.2398932 ,  1.86655799, -0.97627788],\n",
      "       [ 0.94908842, -0.15035721, -0.10221885]]), array([[0.4095985 ],\n",
      "       [0.14304357],\n",
      "       [1.45527351]])]\n"
     ]
    }
   ],
   "source": [
    "# Example usage:\n",
    "np.random.seed(0)\n",
    "params = [np.random.randn(3, 3), np.random.randn(3, 1)]  # Example parameters\n",
    "grads = [np.random.randn(3, 3), np.random.randn(3, 1)]  # Example gradients\n",
    "\n",
    "adam = AdamOptimizer(params, lr=0.001)\n",
    "updated_params = adam.step(grads)\n",
    "print(updated_params)\n"
   ]
  }
 ],
 "metadata": {
  "kernelspec": {
   "display_name": ".venv",
   "language": "python",
   "name": "python3"
  },
  "language_info": {
   "codemirror_mode": {
    "name": "ipython",
    "version": 3
   },
   "file_extension": ".py",
   "mimetype": "text/x-python",
   "name": "python",
   "nbconvert_exporter": "python",
   "pygments_lexer": "ipython3",
   "version": "3.11.9"
  }
 },
 "nbformat": 4,
 "nbformat_minor": 2
}
